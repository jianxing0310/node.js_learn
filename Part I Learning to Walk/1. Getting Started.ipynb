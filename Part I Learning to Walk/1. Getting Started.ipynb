{
 "cells": [
  {
   "cell_type": "code",
   "execution_count": 5,
   "metadata": {
    "collapsed": false
   },
   "outputs": [
    {
     "data": {
      "text/plain": [
       "undefined"
      ]
     },
     "execution_count": 5,
     "metadata": {},
     "output_type": "execute_result"
    }
   ],
   "source": [
    "var msg =[\"hello\", \"world\"].join(\", \")"
   ]
  },
  {
   "cell_type": "code",
   "execution_count": 6,
   "metadata": {
    "collapsed": false
   },
   "outputs": [
    {
     "data": {
      "text/plain": [
       "'hello, world'"
      ]
     },
     "execution_count": 6,
     "metadata": {},
     "output_type": "execute_result"
    }
   ],
   "source": [
    "msg"
   ]
  },
  {
   "cell_type": "code",
   "execution_count": 7,
   "metadata": {
    "collapsed": false
   },
   "outputs": [
    {
     "name": "stdout",
     "output_type": "stream",
     "text": [
      "hello, world\n"
     ]
    },
    {
     "data": {
      "text/plain": [
       "undefined"
      ]
     },
     "execution_count": 7,
     "metadata": {},
     "output_type": "execute_result"
    }
   ],
   "source": [
    "console.log(msg)"
   ]
  },
  {
   "cell_type": "code",
   "execution_count": 8,
   "metadata": {
    "collapsed": false
   },
   "outputs": [
    {
     "name": "stderr",
     "output_type": "stream",
     "text": [
      "hello, world\n"
     ]
    },
    {
     "data": {
      "text/plain": [
       "undefined"
      ]
     },
     "execution_count": 8,
     "metadata": {},
     "output_type": "execute_result"
    }
   ],
   "source": [
    "console.error(msg)"
   ]
  },
  {
   "cell_type": "code",
   "execution_count": 10,
   "metadata": {
    "collapsed": false
   },
   "outputs": [
    {
     "name": "stdout",
     "output_type": "stream",
     "text": [
      "Hello World!\n"
     ]
    },
    {
     "data": {
      "text/plain": [
       "undefined"
      ]
     },
     "execution_count": 10,
     "metadata": {},
     "output_type": "execute_result"
    }
   ],
   "source": [
    "console.log(\"Hello World!\");"
   ]
  },
  {
   "cell_type": "code",
   "execution_count": 11,
   "metadata": {
    "collapsed": false
   },
   "outputs": [
    {
     "data": {
      "text/plain": [
       "Server {\n",
       "  domain: null,\n",
       "  _events: \n",
       "   { request: [Function: process_request],\n",
       "     connection: [Function: connectionListener] },\n",
       "  _eventsCount: 2,\n",
       "  _maxListeners: undefined,\n",
       "  _connections: 0,\n",
       "  _handle: \n",
       "   TCP {\n",
       "     bytesRead: 0,\n",
       "     _externalStream: {},\n",
       "     fd: -1,\n",
       "     reading: false,\n",
       "     owner: [Circular],\n",
       "     onread: null,\n",
       "     onconnection: [Function: onconnection],\n",
       "     writeQueueSize: 0 },\n",
       "  _usingSlaves: false,\n",
       "  _slaves: [],\n",
       "  _unref: false,\n",
       "  allowHalfOpen: true,\n",
       "  pauseOnConnect: false,\n",
       "  httpAllowHalfOpen: false,\n",
       "  timeout: 120000,\n",
       "  _pendingResponseData: 0,\n",
       "  _connectionKey: '6::::8080' }"
      ]
     },
     "execution_count": 11,
     "metadata": {},
     "output_type": "execute_result"
    }
   ],
   "source": [
    "var http = require(\"http\");\n",
    "\n",
    "\n",
    "\n",
    "function process_request(req, res) {\n",
    "\n",
    "    var body = 'Thanks for calling!\\n';\n",
    "\n",
    "    var content_length = body.length;\n",
    "\n",
    "    res.writeHead(200, {\n",
    "\n",
    "        'Content-Length': content_length,\n",
    "\n",
    "        'Content-Type': 'text/plain'\n",
    "\n",
    "    });\n",
    "\n",
    "    res.end(body);\n",
    "\n",
    "}\n",
    "\n",
    "\n",
    "\n",
    "var s = http.createServer(process_request);\n",
    "\n",
    "s.listen(8080);"
   ]
  },
  {
   "cell_type": "code",
   "execution_count": 1,
   "metadata": {
    "collapsed": false
   },
   "outputs": [
    {
     "data": {
      "text/plain": [
       "Server {\n",
       "  domain: null,\n",
       "  _events: \n",
       "   { request: [Function],\n",
       "     connection: [Function: connectionListener] },\n",
       "  _eventsCount: 2,\n",
       "  _maxListeners: undefined,\n",
       "  _connections: 0,\n",
       "  _handle: \n",
       "   TCP {\n",
       "     bytesRead: 0,\n",
       "     _externalStream: {},\n",
       "     fd: -1,\n",
       "     reading: false,\n",
       "     owner: [Circular],\n",
       "     onread: null,\n",
       "     onconnection: [Function: onconnection],\n",
       "     writeQueueSize: 0 },\n",
       "  _usingSlaves: false,\n",
       "  _slaves: [],\n",
       "  _unref: false,\n",
       "  allowHalfOpen: true,\n",
       "  pauseOnConnect: false,\n",
       "  httpAllowHalfOpen: false,\n",
       "  timeout: 120000,\n",
       "  _pendingResponseData: 0,\n",
       "  _connectionKey: '6::::8080' }"
      ]
     },
     "execution_count": 1,
     "metadata": {},
     "output_type": "execute_result"
    }
   ],
   "source": [
    "var http = require(\"http\");\n",
    "\n",
    "\n",
    "\n",
    "var s = http.createServer(function (req, res) {\n",
    "\n",
    "    var body = 'Thanks for calling!\\n';\n",
    "\n",
    "    var content_length = body.lengtth;\n",
    "\n",
    "    res.writeHead(200, {\n",
    "\n",
    "        'Content-Length': content_length,\n",
    "\n",
    "        'Content-Type': 'text/plain'\n",
    "\n",
    "    });\n",
    "\n",
    "    res.end(body);\n",
    "\n",
    "});\n",
    "\n",
    "/**\n",
    "\n",
    " * Now run the server, listening on port 8080\n",
    "\n",
    " */\n",
    "\n",
    "s.listen(8080);"
   ]
  },
  {
   "cell_type": "code",
   "execution_count": null,
   "metadata": {
    "collapsed": true
   },
   "outputs": [],
   "source": []
  },
  {
   "cell_type": "code",
   "execution_count": null,
   "metadata": {
    "collapsed": true
   },
   "outputs": [],
   "source": []
  }
 ],
 "metadata": {
  "kernelspec": {
   "display_name": "Javascript (Node.js)",
   "language": "javascript",
   "name": "javascript"
  },
  "language_info": {
   "file_extension": ".js",
   "mimetype": "application/javascript",
   "name": "javascript",
   "version": "6.10.3"
  }
 },
 "nbformat": 4,
 "nbformat_minor": 1
}
